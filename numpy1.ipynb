{
  "nbformat": 4,
  "nbformat_minor": 0,
  "metadata": {
    "colab": {
      "provenance": [],
      "authorship_tag": "ABX9TyNqiIONvmXn8uLMzZeVrvJy",
      "include_colab_link": true
    },
    "kernelspec": {
      "name": "python3",
      "display_name": "Python 3"
    },
    "language_info": {
      "name": "python"
    }
  },
  "cells": [
    {
      "cell_type": "markdown",
      "metadata": {
        "id": "view-in-github",
        "colab_type": "text"
      },
      "source": [
        "<a href=\"https://colab.research.google.com/github/nainarbala/numpy_and_pandas/blob/main/numpy1.ipynb\" target=\"_parent\"><img src=\"https://colab.research.google.com/assets/colab-badge.svg\" alt=\"Open In Colab\"/></a>"
      ]
    },
    {
      "cell_type": "code",
      "execution_count": 2,
      "metadata": {
        "id": "4hD6QhPm0oGU"
      },
      "outputs": [],
      "source": [
        "import numpy as np"
      ]
    },
    {
      "cell_type": "code",
      "source": [
        "a1 = np.array([1,2,3,5])\n",
        "print(a1)\n",
        "\n",
        "a2 = np.array([[1,2,3],[4,5,6]])\n",
        "print(a2)\n",
        "\n",
        "a3 = np.array([[[1,1,1],[2,2,2],[3,3,3]]])\n",
        "print(a3)\n",
        "\n",
        "zeros = np.zeros((5,10))\n",
        "print(zeros)\n",
        "\n",
        "print(np.ones((2,3)))\n",
        "\n",
        "print(np.arange(0, 10, 2))"
      ],
      "metadata": {
        "colab": {
          "base_uri": "https://localhost:8080/"
        },
        "id": "HrO_ONff0sEc",
        "outputId": "177f0795-86c0-4f40-91f2-00c0107871b4"
      },
      "execution_count": 11,
      "outputs": [
        {
          "output_type": "stream",
          "name": "stdout",
          "text": [
            "[1 2 3 5]\n",
            "[[1 2 3]\n",
            " [4 5 6]]\n",
            "[[[1 1 1]\n",
            "  [2 2 2]\n",
            "  [3 3 3]]]\n",
            "[[0. 0. 0. 0. 0. 0. 0. 0. 0. 0.]\n",
            " [0. 0. 0. 0. 0. 0. 0. 0. 0. 0.]\n",
            " [0. 0. 0. 0. 0. 0. 0. 0. 0. 0.]\n",
            " [0. 0. 0. 0. 0. 0. 0. 0. 0. 0.]\n",
            " [0. 0. 0. 0. 0. 0. 0. 0. 0. 0.]]\n",
            "[[1. 1. 1.]\n",
            " [1. 1. 1.]]\n",
            "[0 2 4 6 8]\n"
          ]
        }
      ]
    },
    {
      "cell_type": "code",
      "source": [
        "import numpy as np\n",
        "\n",
        "arr = np.array([[1, 2, 3], [4, 5, 6]])\n",
        "print(arr)\n",
        "#elements from index 1 to 3\n",
        "print(\"Range of Elements:\",arr[1:4])\n",
        "\n",
        "#all rows, second column\n",
        "print(\"Multidimensional Slicing:\", arr[:, 1])"
      ],
      "metadata": {
        "colab": {
          "base_uri": "https://localhost:8080/"
        },
        "id": "6VJowaMM2BHq",
        "outputId": "8ef25552-8916-4acd-f2b8-496401eec92d"
      },
      "execution_count": 12,
      "outputs": [
        {
          "output_type": "stream",
          "name": "stdout",
          "text": [
            "[[1 2 3]\n",
            " [4 5 6]]\n",
            "Range of Elements: [[4 5 6]]\n",
            "Multidimensional Slicing: [2 5]\n"
          ]
        }
      ]
    },
    {
      "cell_type": "code",
      "source": [
        "import numpy as np\n",
        "arr = np.array([10, 20, 30, 40, 50, 60, 70, 80, 90, 100])\n",
        "\n",
        "# Integer array indexing\n",
        "indices = np.array([1, 3, 5])\n",
        "print (\"Integer array indexing:\", arr[indices])\n",
        "\n",
        "# boolean array indexing\n",
        "cond = arr > 0\n",
        "print(\"cond\", cond, type(cond))\n",
        "print (\"\\nElements greater than 0:\\n\", arr[cond])"
      ],
      "metadata": {
        "colab": {
          "base_uri": "https://localhost:8080/"
        },
        "id": "K8eUDPhz2zO1",
        "outputId": "03f045d5-9b7f-447e-c654-a8896d279c1a"
      },
      "execution_count": 15,
      "outputs": [
        {
          "output_type": "stream",
          "name": "stdout",
          "text": [
            "Integer array indexing: [20 40 60]\n",
            "cond [ True  True  True  True  True  True  True  True  True  True] <class 'numpy.ndarray'>\n",
            "\n",
            "Elements greater than 0:\n",
            " [ 10  20  30  40  50  60  70  80  90 100]\n"
          ]
        }
      ]
    },
    {
      "cell_type": "code",
      "source": [
        "import numpy as np\n",
        "\n",
        "x = np.array([1, 2, 3])\n",
        "y = np.array([4, 5, 6])\n",
        "\n",
        "# Addition\n",
        "add = x + y\n",
        "print(\"Addition:\",add)\n",
        "\n",
        "# Subtraction\n",
        "subtract = x - y\n",
        "print(\"substration:\",subtract)\n",
        "\n",
        "# Multiplication\n",
        "multiply = x * y\n",
        "print(\"multiplication:\",multiply)\n",
        "\n",
        "# Division\n",
        "divide = x / y\n",
        "print(\"division:\", divide)"
      ],
      "metadata": {
        "colab": {
          "base_uri": "https://localhost:8080/"
        },
        "id": "KvlrMTXC3ReO",
        "outputId": "3becb729-deb9-4c81-9eee-14b001a5f840"
      },
      "execution_count": 16,
      "outputs": [
        {
          "output_type": "stream",
          "name": "stdout",
          "text": [
            "Addition: [5 7 9]\n",
            "substration: [-3 -3 -3]\n",
            "multiplication: [ 4 10 18]\n",
            "division: [0.25 0.4  0.5 ]\n"
          ]
        }
      ]
    },
    {
      "cell_type": "markdown",
      "source": [
        "NumPy Sorting Arrays\n",
        "We can use a simple np.sort() method for sorting Python NumPy arrays."
      ],
      "metadata": {
        "id": "v_Nndtbz3_KP"
      }
    },
    {
      "cell_type": "code",
      "source": [
        "import numpy as np\n",
        "\n",
        "# set alias names for dtypes\n",
        "dtypes = [('name', 'S10'), ('grad_year', int), ('cgpa', float)]\n",
        "\n",
        "# Values to be put in array\n",
        "values = [('Hrithik', 2009, 8.5), ('Ajay', 2008, 8.7),\n",
        "           ('Pankaj', 2008, 7.9), ('Aakash', 2009, 9.0)]\n",
        "\n",
        "# Creating array\n",
        "arr = np.array(values, dtype = dtypes)\n",
        "print (\"\\nArray sorted by names:\\n\",\n",
        "            np.sort(arr, order = 'name'))\n",
        "\n",
        "print (\"Array sorted by graduation year and then cgpa:\\n\",\n",
        "                np.sort(arr, order = ['grad_year', 'cgpa']))"
      ],
      "metadata": {
        "colab": {
          "base_uri": "https://localhost:8080/"
        },
        "id": "UoMTuVgH3_4v",
        "outputId": "f3aedd9c-8757-48aa-e826-833f4d4d0cee"
      },
      "execution_count": 19,
      "outputs": [
        {
          "output_type": "stream",
          "name": "stdout",
          "text": [
            "\n",
            "Array sorted by names:\n",
            " [(b'Aakash', 2009, 9. ) (b'Ajay', 2008, 8.7) (b'Hrithik', 2009, 8.5)\n",
            " (b'Pankaj', 2008, 7.9)]\n",
            "Array sorted by graduation year and then cgpa:\n",
            " [(b'Pankaj', 2008, 7.9) (b'Ajay', 2008, 8.7) (b'Hrithik', 2009, 8.5)\n",
            " (b'Aakash', 2009, 9. )]\n"
          ]
        }
      ]
    },
    {
      "cell_type": "code",
      "source": [
        "# Python program to demonstrate\n",
        "# basic array characteristics\n",
        "import numpy as np\n",
        "\n",
        "# Creating array object\n",
        "arr = np.array( [[ 1, 2, 3],\n",
        "                [ 4, 2, 5]] )\n",
        "\n",
        "print(type(arr))\n",
        "print(arr.shape)\n",
        "print(arr.ndim)\n",
        "print(arr.size)\n",
        "print(arr.dtype)"
      ],
      "metadata": {
        "colab": {
          "base_uri": "https://localhost:8080/"
        },
        "id": "ZJWZgFpH4fLz",
        "outputId": "37a452ed-f484-4d6f-9fa1-dc07b5f32628"
      },
      "execution_count": 21,
      "outputs": [
        {
          "output_type": "stream",
          "name": "stdout",
          "text": [
            "<class 'numpy.ndarray'>\n",
            "(2, 3)\n",
            "2\n",
            "6\n",
            "int64\n"
          ]
        }
      ]
    },
    {
      "cell_type": "markdown",
      "source": [
        "### Ways to Create Numpy Arrays\n"
      ],
      "metadata": {
        "id": "c1vUcePH5ehd"
      }
    },
    {
      "cell_type": "code",
      "source": [
        "import numpy as np\n",
        "\n",
        "zeros_array = np.zeros((2, 3))\n",
        "ones_array = np.ones((3, 3))\n",
        "constant_array = np.full((2, 2), 7)\n",
        "range_array = np.arange(0, 10, 2)  # start, stop, step\n",
        "linspace_array = np.linspace(0, 1, 5)  # start, stop, num\n",
        "\n",
        "print(\"Zero Array:\",\"\\n\",zeros_array)\n",
        "print(\"Ones Array:\",\"\\n\",ones_array)\n",
        "print(\"Constant Array:\",\"\\n\",constant_array)\n",
        "print(\"Range Array:\",\"\\n\",range_array)\n",
        "print(\"Linspace Array:\",\"\\n\",linspace_array)\n"
      ],
      "metadata": {
        "colab": {
          "base_uri": "https://localhost:8080/"
        },
        "id": "s_iub2ks5kQT",
        "outputId": "1e1b6eae-ab76-4043-8e93-e654c7bd6ab0"
      },
      "execution_count": 22,
      "outputs": [
        {
          "output_type": "stream",
          "name": "stdout",
          "text": [
            "Zero Array: \n",
            " [[0. 0. 0.]\n",
            " [0. 0. 0.]]\n",
            "Ones Array: \n",
            " [[1. 1. 1.]\n",
            " [1. 1. 1.]\n",
            " [1. 1. 1.]]\n",
            "Constant Array: \n",
            " [[7 7]\n",
            " [7 7]]\n",
            "Range Array: \n",
            " [0 2 4 6 8]\n",
            "Linspace Array: \n",
            " [0.   0.25 0.5  0.75 1.  ]\n"
          ]
        }
      ]
    },
    {
      "cell_type": "markdown",
      "source": [
        "### Accessing Elements in Multidimensional Arrays"
      ],
      "metadata": {
        "id": "pmOx4e-R5_Jk"
      }
    },
    {
      "cell_type": "code",
      "source": [
        "import numpy as np\n",
        "\n",
        "matrix = np.array([[1, 2, 3], [4, 5, 6], [7, 8, 9]])\n",
        "\n",
        "print(matrix[1, 2])\n",
        "\n",
        "\n",
        "import numpy as np\n",
        "\n",
        "cube = np.array([[[1, 2, 3],\n",
        "                  [4, 5, 6],\n",
        "                  [7, 8, 9]],\n",
        "\n",
        "                 [[10, 11, 12],\n",
        "                  [13, 14, 15],\n",
        "                  [16, 17, 18]]])\n",
        "\n",
        "print(cube[1, 2, 0])"
      ],
      "metadata": {
        "colab": {
          "base_uri": "https://localhost:8080/"
        },
        "id": "-xaECUld6B8U",
        "outputId": "99d1f126-e529-4e78-87f4-df9b68a054b0"
      },
      "execution_count": 24,
      "outputs": [
        {
          "output_type": "stream",
          "name": "stdout",
          "text": [
            "6\n",
            "16\n"
          ]
        }
      ]
    },
    {
      "cell_type": "markdown",
      "source": [
        "### Slicing Arrays"
      ],
      "metadata": {
        "id": "a3m541Ep6U-1"
      }
    },
    {
      "cell_type": "code",
      "source": [
        "import numpy as np\n",
        "\n",
        "arr = np.array([0, 1, 2, 3, 4, 5])\n",
        "\n",
        "print(arr[1:4])"
      ],
      "metadata": {
        "colab": {
          "base_uri": "https://localhost:8080/"
        },
        "id": "rWsU_pan6XTM",
        "outputId": "e32dd82c-bd64-4a40-9ea4-577daa30b1a6"
      },
      "execution_count": 25,
      "outputs": [
        {
          "output_type": "stream",
          "name": "stdout",
          "text": [
            "[1 2 3]\n"
          ]
        }
      ]
    },
    {
      "cell_type": "markdown",
      "source": [
        "### Reshape NumPy Array"
      ],
      "metadata": {
        "id": "ytrfLy8P7Oht"
      }
    },
    {
      "cell_type": "code",
      "source": [
        "# importing numpy\n",
        "import numpy as np\n",
        "\n",
        "# creating a numpy array\n",
        "array = np.array([1, 2, 3, 4, 5, 6, 7, 8, 9, 10, 11, 12, 13, 14, 15, 16])\n",
        "\n",
        "# printing array\n",
        "print(\"Array : \" + str(array))\n",
        "\n",
        "# length of array\n",
        "n = array.size\n",
        "\n",
        "# N-D array N dimension\n",
        "N = 4\n",
        "\n",
        "# calculating M\n",
        "M = n//N\n",
        "\n",
        "# reshaping numpy array\n",
        "# converting it to 2-D from 1-D array\n",
        "reshaped1 = array.reshape((N, M))\n",
        "\n",
        "# printing reshaped array\n",
        "print(\"First Reshaped Array : \")\n",
        "print(reshaped1)\n",
        "\n",
        "# creating another reshaped array\n",
        "reshaped2 = np.reshape(array, (2, 8))\n",
        "\n",
        "# printing reshaped array\n",
        "print(\"Second Reshaped Array : \")\n",
        "print(reshaped2)"
      ],
      "metadata": {
        "colab": {
          "base_uri": "https://localhost:8080/"
        },
        "id": "fpm68xQ67RuF",
        "outputId": "8c7ea794-57cb-4ba9-9993-8af462d6c31f"
      },
      "execution_count": 26,
      "outputs": [
        {
          "output_type": "stream",
          "name": "stdout",
          "text": [
            "Array : [ 1  2  3  4  5  6  7  8  9 10 11 12 13 14 15 16]\n",
            "First Reshaped Array : \n",
            "[[ 1  2  3  4]\n",
            " [ 5  6  7  8]\n",
            " [ 9 10 11 12]\n",
            " [13 14 15 16]]\n",
            "Second Reshaped Array : \n",
            "[[ 1  2  3  4  5  6  7  8]\n",
            " [ 9 10 11 12 13 14 15 16]]\n"
          ]
        }
      ]
    },
    {
      "cell_type": "markdown",
      "source": [
        "### Python | Numpy numpy.resize()\n"
      ],
      "metadata": {
        "id": "FYQt2pOz73VO"
      }
    },
    {
      "cell_type": "markdown",
      "source": [],
      "metadata": {
        "id": "KLu-1Kap9B_9"
      }
    },
    {
      "cell_type": "markdown",
      "source": [
        "# importing the python module numpy\n",
        "import numpy as np\n",
        "\n",
        "# Making a random array\n",
        "gfg = np.array([1, 2, 3, 4, 5, 6])\n",
        "\n",
        "# Reshape the array permanently\n",
        "gfg.resize(2, 3)\n",
        "\n",
        "print(gfg)"
      ],
      "metadata": {
        "id": "B33NYfpR77lt"
      }
    },
    {
      "cell_type": "markdown",
      "source": [
        "### numpy.stack() in Python"
      ],
      "metadata": {
        "id": "oKXNQaD58RzU"
      }
    },
    {
      "cell_type": "code",
      "source": [
        "import numpy as np\n",
        "\n",
        "# input array\n",
        "a = np.array([1, 2, 3])\n",
        "b = np.array([4, 5, 6])\n",
        "\n",
        "# Stacking 2 1-d arrays\n",
        "c = np.stack((a, b),axis=0)\n",
        "print(c)"
      ],
      "metadata": {
        "colab": {
          "base_uri": "https://localhost:8080/"
        },
        "id": "cfHNh4Le8VSX",
        "outputId": "dbd786db-6c17-46b5-cc61-8f12113d1e6b"
      },
      "execution_count": 27,
      "outputs": [
        {
          "output_type": "stream",
          "name": "stdout",
          "text": [
            "[[1 2 3]\n",
            " [4 5 6]]\n"
          ]
        }
      ]
    },
    {
      "cell_type": "markdown",
      "source": [
        "### Broadcasting in Conditional Operations\n"
      ],
      "metadata": {
        "id": "WegWxgoC9DMd"
      }
    },
    {
      "cell_type": "code",
      "source": [
        "import numpy as np\n",
        "\n",
        "ages = np.array([12, 24, 35, 45, 60, 72])\n",
        "\n",
        "age_group = np.array([\"Adult\", \"Minor\"])\n",
        "\n",
        "result = np.where(ages > 18, age_group[0], age_group[1])\n",
        "\n",
        "print(result)"
      ],
      "metadata": {
        "colab": {
          "base_uri": "https://localhost:8080/"
        },
        "id": "4pZj0Hjo9HTF",
        "outputId": "3c65c6d1-3f3c-4574-d583-bcd1177d69a2"
      },
      "execution_count": 28,
      "outputs": [
        {
          "output_type": "stream",
          "name": "stdout",
          "text": [
            "['Minor' 'Adult' 'Adult' 'Adult' 'Adult' 'Adult']\n"
          ]
        }
      ]
    },
    {
      "cell_type": "markdown",
      "source": [
        "### Consider a real-world scenario where we need to calculate the total calories in foods based on the amount of fats, proteins and carbohydrates. Each nutrient has a specific caloric value per gram. \\\n",
        "\n",
        "Fats: 9 calories per gram (CPG)\n",
        "Proteins: 4 CPG\n",
        "Carbohydrates: 4 CPG\n",
        "\n",
        "\n",
        "Left table shows the original data with food items and their respective grams of fats, proteins and carbs. The array [3, 3, 8] represents the caloric values per gram for fats, proteins and carbs respectively. This array is being broadcast to match the dimensions of the original data and arrow indicates the broadcasting operation.\n",
        "\n",
        "Broadcasting array is multiplied element-wise with each row of the original data.\n",
        "As a result right table shows the result of the multiplication where each cell represents the caloric contribution of that specific nutrient in the food item.\n",
        "\n",
        "https://media.geeksforgeeks.org/wp-content/uploads/20250512173302159001/broad1.webp"
      ],
      "metadata": {
        "id": "USJ6vf6v98x-"
      }
    },
    {
      "cell_type": "code",
      "source": [
        "import numpy as np\n",
        "food_data = np.array([[0.8, 2.9, 3.9],\n",
        "                      [52.4, 23.6, 36.5],\n",
        "                      [55.2, 31.7, 23.9],\n",
        "                      [14.4, 11, 4.9]])\n",
        "\n",
        "caloric_values = np.array([3, 3, 8])\n",
        "\n",
        "caloric_matrix = caloric_values\n",
        "\n",
        "calorie_breakdown = food_data * caloric_matrix\n",
        "print(calorie_breakdown)"
      ],
      "metadata": {
        "colab": {
          "base_uri": "https://localhost:8080/"
        },
        "id": "7wNuqCvW-L5H",
        "outputId": "33979aac-2e92-4805-82c2-c6ea5dcd8edc"
      },
      "execution_count": 29,
      "outputs": [
        {
          "output_type": "stream",
          "name": "stdout",
          "text": [
            "[[  2.4   8.7  31.2]\n",
            " [157.2  70.8 292. ]\n",
            " [165.6  95.1 191.2]\n",
            " [ 43.2  33.   39.2]]\n"
          ]
        }
      ]
    },
    {
      "cell_type": "code",
      "source": [
        "import numpy as np\n",
        "\n",
        "temperatures = np.array([\n",
        "    [30, 32, 34, 33, 31],\n",
        "    [25, 27, 29, 28, 26],\n",
        "    [20, 22, 24, 23, 21]\n",
        "])\n",
        "\n",
        "corrections = np.array([1.5, -0.5, 2.0])\n",
        "\n",
        "adjusted_temperatures = temperatures + corrections[:, np.newaxis]\n",
        "print(adjusted_temperatures)\n",
        "\n"
      ],
      "metadata": {
        "colab": {
          "base_uri": "https://localhost:8080/"
        },
        "id": "6nqo5ZtvAfiw",
        "outputId": "5e410bcb-a3db-47be-fa9a-71953fdc41a6"
      },
      "execution_count": 37,
      "outputs": [
        {
          "output_type": "stream",
          "name": "stdout",
          "text": [
            "[[31.5 33.5 35.5 34.5 32.5]\n",
            " [24.5 26.5 28.5 27.5 25.5]\n",
            " [22.  24.  26.  25.  23. ]]\n"
          ]
        }
      ]
    }
  ]
}