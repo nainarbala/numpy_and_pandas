{
  "nbformat": 4,
  "nbformat_minor": 0,
  "metadata": {
    "colab": {
      "provenance": [],
      "authorship_tag": "ABX9TyPKVPxZ1drk/0wB+Wdjf1VS",
      "include_colab_link": true
    },
    "kernelspec": {
      "name": "python3",
      "display_name": "Python 3"
    },
    "language_info": {
      "name": "python"
    }
  },
  "cells": [
    {
      "cell_type": "markdown",
      "metadata": {
        "id": "view-in-github",
        "colab_type": "text"
      },
      "source": [
        "<a href=\"https://colab.research.google.com/github/nainarbala/numpy_and_pandas/blob/main/numpy1.ipynb\" target=\"_parent\"><img src=\"https://colab.research.google.com/assets/colab-badge.svg\" alt=\"Open In Colab\"/></a>"
      ]
    },
    {
      "cell_type": "code",
      "execution_count": 2,
      "metadata": {
        "id": "4hD6QhPm0oGU"
      },
      "outputs": [],
      "source": [
        "import numpy as np"
      ]
    },
    {
      "cell_type": "code",
      "source": [
        "a1 = np.array([1,2,3,5])\n",
        "print(a1)\n",
        "\n",
        "a2 = np.array([[1,2,3],[4,5,6]])\n",
        "print(a2)\n",
        "\n",
        "a3 = np.array([[[1,1,1],[2,2,2],[3,3,3]]])\n",
        "print(a3)\n",
        "\n",
        "zeros = np.zeros((5,10))\n",
        "print(zeros)\n",
        "\n",
        "print(np.ones((2,3)))\n",
        "\n",
        "print(np.arange(0, 10, 2))"
      ],
      "metadata": {
        "colab": {
          "base_uri": "https://localhost:8080/"
        },
        "id": "HrO_ONff0sEc",
        "outputId": "177f0795-86c0-4f40-91f2-00c0107871b4"
      },
      "execution_count": 11,
      "outputs": [
        {
          "output_type": "stream",
          "name": "stdout",
          "text": [
            "[1 2 3 5]\n",
            "[[1 2 3]\n",
            " [4 5 6]]\n",
            "[[[1 1 1]\n",
            "  [2 2 2]\n",
            "  [3 3 3]]]\n",
            "[[0. 0. 0. 0. 0. 0. 0. 0. 0. 0.]\n",
            " [0. 0. 0. 0. 0. 0. 0. 0. 0. 0.]\n",
            " [0. 0. 0. 0. 0. 0. 0. 0. 0. 0.]\n",
            " [0. 0. 0. 0. 0. 0. 0. 0. 0. 0.]\n",
            " [0. 0. 0. 0. 0. 0. 0. 0. 0. 0.]]\n",
            "[[1. 1. 1.]\n",
            " [1. 1. 1.]]\n",
            "[0 2 4 6 8]\n"
          ]
        }
      ]
    },
    {
      "cell_type": "code",
      "source": [
        "import numpy as np\n",
        "\n",
        "arr = np.array([[1, 2, 3], [4, 5, 6]])\n",
        "print(arr)\n",
        "#elements from index 1 to 3\n",
        "print(\"Range of Elements:\",arr[1:4])\n",
        "\n",
        "#all rows, second column\n",
        "print(\"Multidimensional Slicing:\", arr[:, 1])"
      ],
      "metadata": {
        "colab": {
          "base_uri": "https://localhost:8080/"
        },
        "id": "6VJowaMM2BHq",
        "outputId": "8ef25552-8916-4acd-f2b8-496401eec92d"
      },
      "execution_count": 12,
      "outputs": [
        {
          "output_type": "stream",
          "name": "stdout",
          "text": [
            "[[1 2 3]\n",
            " [4 5 6]]\n",
            "Range of Elements: [[4 5 6]]\n",
            "Multidimensional Slicing: [2 5]\n"
          ]
        }
      ]
    },
    {
      "cell_type": "code",
      "source": [
        "import numpy as np\n",
        "arr = np.array([10, 20, 30, 40, 50, 60, 70, 80, 90, 100])\n",
        "\n",
        "# Integer array indexing\n",
        "indices = np.array([1, 3, 5])\n",
        "print (\"Integer array indexing:\", arr[indices])\n",
        "\n",
        "# boolean array indexing\n",
        "cond = arr > 0\n",
        "print(\"cond\", cond, type(cond))\n",
        "print (\"\\nElements greater than 0:\\n\", arr[cond])"
      ],
      "metadata": {
        "colab": {
          "base_uri": "https://localhost:8080/"
        },
        "id": "K8eUDPhz2zO1",
        "outputId": "03f045d5-9b7f-447e-c654-a8896d279c1a"
      },
      "execution_count": 15,
      "outputs": [
        {
          "output_type": "stream",
          "name": "stdout",
          "text": [
            "Integer array indexing: [20 40 60]\n",
            "cond [ True  True  True  True  True  True  True  True  True  True] <class 'numpy.ndarray'>\n",
            "\n",
            "Elements greater than 0:\n",
            " [ 10  20  30  40  50  60  70  80  90 100]\n"
          ]
        }
      ]
    }
  ]
}